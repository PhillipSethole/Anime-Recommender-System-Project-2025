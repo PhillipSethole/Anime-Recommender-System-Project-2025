{
 "cells": [
  {
   "cell_type": "markdown",
   "id": "09a2c2c8",
   "metadata": {},
   "source": [
    "# Anime-Recommender-System-Project-2025"
   ]
  },
  {
   "cell_type": "markdown",
   "id": "10df24fe-8de8-4803-b4d3-386634dd1fb2",
   "metadata": {},
   "source": [
    "<center>\n",
    "  <img src='https://mostaql.hsoubcdn.com/uploads/thumbnails/1450164/661a5b0c8a072/dataset-card.jpg'width='700'/>\n",
    "</center>"
   ]
  },
  {
   "cell_type": "markdown",
   "id": "933615d7",
   "metadata": {},
   "source": [
    "# Table of Contents\n",
    "- [1. Project Overview](#1-project-overview)\n",
    "  - [1.1 Introduction](#11-introduction)\n",
    "  - [1.2 Problem Statement](#12-problem-statement)\n",
    "  - [1.3 Objectives](#13-objectives)\n",
    "- [2. Importing Packages](#2-importing-packages)\n",
    "- [3. Loading Data](#3-loading-data)\n",
    "- [4. Data Cleaning](#4-data-cleaning)\n",
    "- [5. Exploratory Data Analysis (EDA)](#5-exploratory-data-analysis-eda)\n",
    "- [6. Preprocessing](#6-preprocessing)\n",
    "- [7. Model Training](#7-model-training)\n",
    "- [8. Model Evaluation](#8-model-evaluation)\n",
    "- [9. Hyperparameter Tuning](#9-hyperparameter-tuning)\n",
    "- [10. Conclusion](#10-conclusion)"
   ]
  },
  {
   "cell_type": "markdown",
   "id": "9e9df305",
   "metadata": {},
   "source": [
    "### 1. Project Overview"
   ]
  },
  {
   "cell_type": "markdown",
   "id": "f63770d0",
   "metadata": {},
   "source": [
    "##### 1.1 Introduction"
   ]
  },
  {
   "cell_type": "code",
   "execution_count": null,
   "id": "1b697802",
   "metadata": {},
   "outputs": [],
   "source": []
  },
  {
   "cell_type": "markdown",
   "id": "0b79db45",
   "metadata": {},
   "source": [
    "##### 1.2 Problem Statement"
   ]
  },
  {
   "cell_type": "code",
   "execution_count": null,
   "id": "d9d4c535",
   "metadata": {},
   "outputs": [],
   "source": []
  },
  {
   "cell_type": "markdown",
   "id": "2764a8b1",
   "metadata": {},
   "source": [
    "##### 1.3 Objectives"
   ]
  },
  {
   "cell_type": "code",
   "execution_count": null,
   "id": "d31f0e61",
   "metadata": {},
   "outputs": [],
   "source": []
  },
  {
   "cell_type": "markdown",
   "id": "5394f142",
   "metadata": {},
   "source": [
    "### 2. Importing Packages"
   ]
  },
  {
   "cell_type": "code",
   "execution_count": 1,
   "id": "33080b44",
   "metadata": {},
   "outputs": [],
   "source": [
    "import pandas as pd\n",
    "import numpy as np\n",
    "import matplotlib.pyplot as plt\n",
    "import seaborn as sns\n",
    "from sklearn.model_selection import train_test_split, cross_val_score\n",
    "from sklearn.preprocessing import StandardScaler\n",
    "from sklearn.linear_model import LinearRegression\n",
    "from sklearn.ensemble import RandomForestRegressor\n",
    "from sklearn.metrics import mean_squared_error, mean_absolute_error, r2_score\n",
    "import pandas as pd\n",
    "import re\n",
    "from html import unescape\n",
    "import html\n",
    "from sklearn.feature_extraction.text import TfidfVectorizer\n",
    "from sklearn.metrics.pairwise import cosine_similarity as CS\n",
    "import heapq\n",
    "import warnings\n",
    "warnings.filterwarnings(\"ignore\")"
   ]
  },
  {
   "cell_type": "raw",
   "id": "ff47cab6-5377-4573-84e3-8871febbde6c",
   "metadata": {},
   "source": [
    "### 3. Loading Data"
   ]
  },
  {
   "cell_type": "code",
   "execution_count": 2,
   "id": "c8db9c2b",
   "metadata": {},
   "outputs": [
    {
     "ename": "FileNotFoundError",
     "evalue": "[Errno 2] No such file or directory: 'train.csv'",
     "output_type": "error",
     "traceback": [
      "\u001b[1;31m---------------------------------------------------------------------------\u001b[0m",
      "\u001b[1;31mFileNotFoundError\u001b[0m                         Traceback (most recent call last)",
      "Cell \u001b[1;32mIn[2], line 1\u001b[0m\n\u001b[1;32m----> 1\u001b[0m df_train \u001b[38;5;241m=\u001b[39m \u001b[43mpd\u001b[49m\u001b[38;5;241;43m.\u001b[39;49m\u001b[43mread_csv\u001b[49m\u001b[43m(\u001b[49m\u001b[38;5;124;43m'\u001b[39;49m\u001b[38;5;124;43mtrain.csv\u001b[39;49m\u001b[38;5;124;43m'\u001b[39;49m\u001b[43m)\u001b[49m\n\u001b[0;32m      2\u001b[0m df_test \u001b[38;5;241m=\u001b[39m pd\u001b[38;5;241m.\u001b[39mread_csv(\u001b[38;5;124m'\u001b[39m\u001b[38;5;124mtest.csv\u001b[39m\u001b[38;5;124m'\u001b[39m)\n\u001b[0;32m      3\u001b[0m df_anime \u001b[38;5;241m=\u001b[39m pd\u001b[38;5;241m.\u001b[39mread_csv(\u001b[38;5;124m'\u001b[39m\u001b[38;5;124manime.csv\u001b[39m\u001b[38;5;124m'\u001b[39m)\n",
      "File \u001b[1;32mc:\\Users\\MzwandileStuurman\\anaconda3\\envs\\NLP\\Lib\\site-packages\\pandas\\io\\parsers\\readers.py:1026\u001b[0m, in \u001b[0;36mread_csv\u001b[1;34m(filepath_or_buffer, sep, delimiter, header, names, index_col, usecols, dtype, engine, converters, true_values, false_values, skipinitialspace, skiprows, skipfooter, nrows, na_values, keep_default_na, na_filter, verbose, skip_blank_lines, parse_dates, infer_datetime_format, keep_date_col, date_parser, date_format, dayfirst, cache_dates, iterator, chunksize, compression, thousands, decimal, lineterminator, quotechar, quoting, doublequote, escapechar, comment, encoding, encoding_errors, dialect, on_bad_lines, delim_whitespace, low_memory, memory_map, float_precision, storage_options, dtype_backend)\u001b[0m\n\u001b[0;32m   1013\u001b[0m kwds_defaults \u001b[38;5;241m=\u001b[39m _refine_defaults_read(\n\u001b[0;32m   1014\u001b[0m     dialect,\n\u001b[0;32m   1015\u001b[0m     delimiter,\n\u001b[1;32m   (...)\u001b[0m\n\u001b[0;32m   1022\u001b[0m     dtype_backend\u001b[38;5;241m=\u001b[39mdtype_backend,\n\u001b[0;32m   1023\u001b[0m )\n\u001b[0;32m   1024\u001b[0m kwds\u001b[38;5;241m.\u001b[39mupdate(kwds_defaults)\n\u001b[1;32m-> 1026\u001b[0m \u001b[38;5;28;01mreturn\u001b[39;00m \u001b[43m_read\u001b[49m\u001b[43m(\u001b[49m\u001b[43mfilepath_or_buffer\u001b[49m\u001b[43m,\u001b[49m\u001b[43m \u001b[49m\u001b[43mkwds\u001b[49m\u001b[43m)\u001b[49m\n",
      "File \u001b[1;32mc:\\Users\\MzwandileStuurman\\anaconda3\\envs\\NLP\\Lib\\site-packages\\pandas\\io\\parsers\\readers.py:620\u001b[0m, in \u001b[0;36m_read\u001b[1;34m(filepath_or_buffer, kwds)\u001b[0m\n\u001b[0;32m    617\u001b[0m _validate_names(kwds\u001b[38;5;241m.\u001b[39mget(\u001b[38;5;124m\"\u001b[39m\u001b[38;5;124mnames\u001b[39m\u001b[38;5;124m\"\u001b[39m, \u001b[38;5;28;01mNone\u001b[39;00m))\n\u001b[0;32m    619\u001b[0m \u001b[38;5;66;03m# Create the parser.\u001b[39;00m\n\u001b[1;32m--> 620\u001b[0m parser \u001b[38;5;241m=\u001b[39m \u001b[43mTextFileReader\u001b[49m\u001b[43m(\u001b[49m\u001b[43mfilepath_or_buffer\u001b[49m\u001b[43m,\u001b[49m\u001b[43m \u001b[49m\u001b[38;5;241;43m*\u001b[39;49m\u001b[38;5;241;43m*\u001b[39;49m\u001b[43mkwds\u001b[49m\u001b[43m)\u001b[49m\n\u001b[0;32m    622\u001b[0m \u001b[38;5;28;01mif\u001b[39;00m chunksize \u001b[38;5;129;01mor\u001b[39;00m iterator:\n\u001b[0;32m    623\u001b[0m     \u001b[38;5;28;01mreturn\u001b[39;00m parser\n",
      "File \u001b[1;32mc:\\Users\\MzwandileStuurman\\anaconda3\\envs\\NLP\\Lib\\site-packages\\pandas\\io\\parsers\\readers.py:1620\u001b[0m, in \u001b[0;36mTextFileReader.__init__\u001b[1;34m(self, f, engine, **kwds)\u001b[0m\n\u001b[0;32m   1617\u001b[0m     \u001b[38;5;28mself\u001b[39m\u001b[38;5;241m.\u001b[39moptions[\u001b[38;5;124m\"\u001b[39m\u001b[38;5;124mhas_index_names\u001b[39m\u001b[38;5;124m\"\u001b[39m] \u001b[38;5;241m=\u001b[39m kwds[\u001b[38;5;124m\"\u001b[39m\u001b[38;5;124mhas_index_names\u001b[39m\u001b[38;5;124m\"\u001b[39m]\n\u001b[0;32m   1619\u001b[0m \u001b[38;5;28mself\u001b[39m\u001b[38;5;241m.\u001b[39mhandles: IOHandles \u001b[38;5;241m|\u001b[39m \u001b[38;5;28;01mNone\u001b[39;00m \u001b[38;5;241m=\u001b[39m \u001b[38;5;28;01mNone\u001b[39;00m\n\u001b[1;32m-> 1620\u001b[0m \u001b[38;5;28mself\u001b[39m\u001b[38;5;241m.\u001b[39m_engine \u001b[38;5;241m=\u001b[39m \u001b[38;5;28;43mself\u001b[39;49m\u001b[38;5;241;43m.\u001b[39;49m\u001b[43m_make_engine\u001b[49m\u001b[43m(\u001b[49m\u001b[43mf\u001b[49m\u001b[43m,\u001b[49m\u001b[43m \u001b[49m\u001b[38;5;28;43mself\u001b[39;49m\u001b[38;5;241;43m.\u001b[39;49m\u001b[43mengine\u001b[49m\u001b[43m)\u001b[49m\n",
      "File \u001b[1;32mc:\\Users\\MzwandileStuurman\\anaconda3\\envs\\NLP\\Lib\\site-packages\\pandas\\io\\parsers\\readers.py:1880\u001b[0m, in \u001b[0;36mTextFileReader._make_engine\u001b[1;34m(self, f, engine)\u001b[0m\n\u001b[0;32m   1878\u001b[0m     \u001b[38;5;28;01mif\u001b[39;00m \u001b[38;5;124m\"\u001b[39m\u001b[38;5;124mb\u001b[39m\u001b[38;5;124m\"\u001b[39m \u001b[38;5;129;01mnot\u001b[39;00m \u001b[38;5;129;01min\u001b[39;00m mode:\n\u001b[0;32m   1879\u001b[0m         mode \u001b[38;5;241m+\u001b[39m\u001b[38;5;241m=\u001b[39m \u001b[38;5;124m\"\u001b[39m\u001b[38;5;124mb\u001b[39m\u001b[38;5;124m\"\u001b[39m\n\u001b[1;32m-> 1880\u001b[0m \u001b[38;5;28mself\u001b[39m\u001b[38;5;241m.\u001b[39mhandles \u001b[38;5;241m=\u001b[39m \u001b[43mget_handle\u001b[49m\u001b[43m(\u001b[49m\n\u001b[0;32m   1881\u001b[0m \u001b[43m    \u001b[49m\u001b[43mf\u001b[49m\u001b[43m,\u001b[49m\n\u001b[0;32m   1882\u001b[0m \u001b[43m    \u001b[49m\u001b[43mmode\u001b[49m\u001b[43m,\u001b[49m\n\u001b[0;32m   1883\u001b[0m \u001b[43m    \u001b[49m\u001b[43mencoding\u001b[49m\u001b[38;5;241;43m=\u001b[39;49m\u001b[38;5;28;43mself\u001b[39;49m\u001b[38;5;241;43m.\u001b[39;49m\u001b[43moptions\u001b[49m\u001b[38;5;241;43m.\u001b[39;49m\u001b[43mget\u001b[49m\u001b[43m(\u001b[49m\u001b[38;5;124;43m\"\u001b[39;49m\u001b[38;5;124;43mencoding\u001b[39;49m\u001b[38;5;124;43m\"\u001b[39;49m\u001b[43m,\u001b[49m\u001b[43m \u001b[49m\u001b[38;5;28;43;01mNone\u001b[39;49;00m\u001b[43m)\u001b[49m\u001b[43m,\u001b[49m\n\u001b[0;32m   1884\u001b[0m \u001b[43m    \u001b[49m\u001b[43mcompression\u001b[49m\u001b[38;5;241;43m=\u001b[39;49m\u001b[38;5;28;43mself\u001b[39;49m\u001b[38;5;241;43m.\u001b[39;49m\u001b[43moptions\u001b[49m\u001b[38;5;241;43m.\u001b[39;49m\u001b[43mget\u001b[49m\u001b[43m(\u001b[49m\u001b[38;5;124;43m\"\u001b[39;49m\u001b[38;5;124;43mcompression\u001b[39;49m\u001b[38;5;124;43m\"\u001b[39;49m\u001b[43m,\u001b[49m\u001b[43m \u001b[49m\u001b[38;5;28;43;01mNone\u001b[39;49;00m\u001b[43m)\u001b[49m\u001b[43m,\u001b[49m\n\u001b[0;32m   1885\u001b[0m \u001b[43m    \u001b[49m\u001b[43mmemory_map\u001b[49m\u001b[38;5;241;43m=\u001b[39;49m\u001b[38;5;28;43mself\u001b[39;49m\u001b[38;5;241;43m.\u001b[39;49m\u001b[43moptions\u001b[49m\u001b[38;5;241;43m.\u001b[39;49m\u001b[43mget\u001b[49m\u001b[43m(\u001b[49m\u001b[38;5;124;43m\"\u001b[39;49m\u001b[38;5;124;43mmemory_map\u001b[39;49m\u001b[38;5;124;43m\"\u001b[39;49m\u001b[43m,\u001b[49m\u001b[43m \u001b[49m\u001b[38;5;28;43;01mFalse\u001b[39;49;00m\u001b[43m)\u001b[49m\u001b[43m,\u001b[49m\n\u001b[0;32m   1886\u001b[0m \u001b[43m    \u001b[49m\u001b[43mis_text\u001b[49m\u001b[38;5;241;43m=\u001b[39;49m\u001b[43mis_text\u001b[49m\u001b[43m,\u001b[49m\n\u001b[0;32m   1887\u001b[0m \u001b[43m    \u001b[49m\u001b[43merrors\u001b[49m\u001b[38;5;241;43m=\u001b[39;49m\u001b[38;5;28;43mself\u001b[39;49m\u001b[38;5;241;43m.\u001b[39;49m\u001b[43moptions\u001b[49m\u001b[38;5;241;43m.\u001b[39;49m\u001b[43mget\u001b[49m\u001b[43m(\u001b[49m\u001b[38;5;124;43m\"\u001b[39;49m\u001b[38;5;124;43mencoding_errors\u001b[39;49m\u001b[38;5;124;43m\"\u001b[39;49m\u001b[43m,\u001b[49m\u001b[43m \u001b[49m\u001b[38;5;124;43m\"\u001b[39;49m\u001b[38;5;124;43mstrict\u001b[39;49m\u001b[38;5;124;43m\"\u001b[39;49m\u001b[43m)\u001b[49m\u001b[43m,\u001b[49m\n\u001b[0;32m   1888\u001b[0m \u001b[43m    \u001b[49m\u001b[43mstorage_options\u001b[49m\u001b[38;5;241;43m=\u001b[39;49m\u001b[38;5;28;43mself\u001b[39;49m\u001b[38;5;241;43m.\u001b[39;49m\u001b[43moptions\u001b[49m\u001b[38;5;241;43m.\u001b[39;49m\u001b[43mget\u001b[49m\u001b[43m(\u001b[49m\u001b[38;5;124;43m\"\u001b[39;49m\u001b[38;5;124;43mstorage_options\u001b[39;49m\u001b[38;5;124;43m\"\u001b[39;49m\u001b[43m,\u001b[49m\u001b[43m \u001b[49m\u001b[38;5;28;43;01mNone\u001b[39;49;00m\u001b[43m)\u001b[49m\u001b[43m,\u001b[49m\n\u001b[0;32m   1889\u001b[0m \u001b[43m\u001b[49m\u001b[43m)\u001b[49m\n\u001b[0;32m   1890\u001b[0m \u001b[38;5;28;01massert\u001b[39;00m \u001b[38;5;28mself\u001b[39m\u001b[38;5;241m.\u001b[39mhandles \u001b[38;5;129;01mis\u001b[39;00m \u001b[38;5;129;01mnot\u001b[39;00m \u001b[38;5;28;01mNone\u001b[39;00m\n\u001b[0;32m   1891\u001b[0m f \u001b[38;5;241m=\u001b[39m \u001b[38;5;28mself\u001b[39m\u001b[38;5;241m.\u001b[39mhandles\u001b[38;5;241m.\u001b[39mhandle\n",
      "File \u001b[1;32mc:\\Users\\MzwandileStuurman\\anaconda3\\envs\\NLP\\Lib\\site-packages\\pandas\\io\\common.py:873\u001b[0m, in \u001b[0;36mget_handle\u001b[1;34m(path_or_buf, mode, encoding, compression, memory_map, is_text, errors, storage_options)\u001b[0m\n\u001b[0;32m    868\u001b[0m \u001b[38;5;28;01melif\u001b[39;00m \u001b[38;5;28misinstance\u001b[39m(handle, \u001b[38;5;28mstr\u001b[39m):\n\u001b[0;32m    869\u001b[0m     \u001b[38;5;66;03m# Check whether the filename is to be opened in binary mode.\u001b[39;00m\n\u001b[0;32m    870\u001b[0m     \u001b[38;5;66;03m# Binary mode does not support 'encoding' and 'newline'.\u001b[39;00m\n\u001b[0;32m    871\u001b[0m     \u001b[38;5;28;01mif\u001b[39;00m ioargs\u001b[38;5;241m.\u001b[39mencoding \u001b[38;5;129;01mand\u001b[39;00m \u001b[38;5;124m\"\u001b[39m\u001b[38;5;124mb\u001b[39m\u001b[38;5;124m\"\u001b[39m \u001b[38;5;129;01mnot\u001b[39;00m \u001b[38;5;129;01min\u001b[39;00m ioargs\u001b[38;5;241m.\u001b[39mmode:\n\u001b[0;32m    872\u001b[0m         \u001b[38;5;66;03m# Encoding\u001b[39;00m\n\u001b[1;32m--> 873\u001b[0m         handle \u001b[38;5;241m=\u001b[39m \u001b[38;5;28;43mopen\u001b[39;49m\u001b[43m(\u001b[49m\n\u001b[0;32m    874\u001b[0m \u001b[43m            \u001b[49m\u001b[43mhandle\u001b[49m\u001b[43m,\u001b[49m\n\u001b[0;32m    875\u001b[0m \u001b[43m            \u001b[49m\u001b[43mioargs\u001b[49m\u001b[38;5;241;43m.\u001b[39;49m\u001b[43mmode\u001b[49m\u001b[43m,\u001b[49m\n\u001b[0;32m    876\u001b[0m \u001b[43m            \u001b[49m\u001b[43mencoding\u001b[49m\u001b[38;5;241;43m=\u001b[39;49m\u001b[43mioargs\u001b[49m\u001b[38;5;241;43m.\u001b[39;49m\u001b[43mencoding\u001b[49m\u001b[43m,\u001b[49m\n\u001b[0;32m    877\u001b[0m \u001b[43m            \u001b[49m\u001b[43merrors\u001b[49m\u001b[38;5;241;43m=\u001b[39;49m\u001b[43merrors\u001b[49m\u001b[43m,\u001b[49m\n\u001b[0;32m    878\u001b[0m \u001b[43m            \u001b[49m\u001b[43mnewline\u001b[49m\u001b[38;5;241;43m=\u001b[39;49m\u001b[38;5;124;43m\"\u001b[39;49m\u001b[38;5;124;43m\"\u001b[39;49m\u001b[43m,\u001b[49m\n\u001b[0;32m    879\u001b[0m \u001b[43m        \u001b[49m\u001b[43m)\u001b[49m\n\u001b[0;32m    880\u001b[0m     \u001b[38;5;28;01melse\u001b[39;00m:\n\u001b[0;32m    881\u001b[0m         \u001b[38;5;66;03m# Binary mode\u001b[39;00m\n\u001b[0;32m    882\u001b[0m         handle \u001b[38;5;241m=\u001b[39m \u001b[38;5;28mopen\u001b[39m(handle, ioargs\u001b[38;5;241m.\u001b[39mmode)\n",
      "\u001b[1;31mFileNotFoundError\u001b[0m: [Errno 2] No such file or directory: 'train.csv'"
     ]
    }
   ],
   "source": [
    "df_train = pd.read_csv('train.csv')\n",
    "df_test = pd.read_csv('test.csv')\n",
    "df_anime = pd.read_csv('anime.csv')\n",
    "df_submission = pd.read_csv('submission.csv')"
   ]
  },
  {
   "cell_type": "markdown",
   "id": "2fc79c24-23eb-4516-b265-77831875004d",
   "metadata": {},
   "source": [
    "#### 3.1. Exploring the Dataset\n",
    "In this section, we explore the dataset to understand its structure and the information it contains. The code snippets below provide an overview of the dataset's shape, the number of columns, and metadata information about the dataset."
   ]
  },
  {
   "cell_type": "code",
   "execution_count": 326,
   "id": "8b298208-2ad3-4f39-9876-8e80f54de6d3",
   "metadata": {},
   "outputs": [
    {
     "data": {
      "text/html": [
       "<div>\n",
       "<style scoped>\n",
       "    .dataframe tbody tr th:only-of-type {\n",
       "        vertical-align: middle;\n",
       "    }\n",
       "\n",
       "    .dataframe tbody tr th {\n",
       "        vertical-align: top;\n",
       "    }\n",
       "\n",
       "    .dataframe thead th {\n",
       "        text-align: right;\n",
       "    }\n",
       "</style>\n",
       "<table border=\"1\" class=\"dataframe\">\n",
       "  <thead>\n",
       "    <tr style=\"text-align: right;\">\n",
       "      <th></th>\n",
       "      <th>anime_id</th>\n",
       "      <th>name</th>\n",
       "      <th>genre</th>\n",
       "      <th>type</th>\n",
       "      <th>episodes</th>\n",
       "      <th>rating</th>\n",
       "      <th>members</th>\n",
       "    </tr>\n",
       "  </thead>\n",
       "  <tbody>\n",
       "    <tr>\n",
       "      <th>0</th>\n",
       "      <td>32281</td>\n",
       "      <td>Kimi no Na wa.</td>\n",
       "      <td>Drama, Romance, School, Supernatural</td>\n",
       "      <td>Movie</td>\n",
       "      <td>1</td>\n",
       "      <td>9.37</td>\n",
       "      <td>200630</td>\n",
       "    </tr>\n",
       "    <tr>\n",
       "      <th>1</th>\n",
       "      <td>5114</td>\n",
       "      <td>Fullmetal Alchemist: Brotherhood</td>\n",
       "      <td>Action, Adventure, Drama, Fantasy, Magic, Mili...</td>\n",
       "      <td>TV</td>\n",
       "      <td>64</td>\n",
       "      <td>9.26</td>\n",
       "      <td>793665</td>\n",
       "    </tr>\n",
       "    <tr>\n",
       "      <th>2</th>\n",
       "      <td>28977</td>\n",
       "      <td>Gintama°</td>\n",
       "      <td>Action, Comedy, Historical, Parody, Samurai, S...</td>\n",
       "      <td>TV</td>\n",
       "      <td>51</td>\n",
       "      <td>9.25</td>\n",
       "      <td>114262</td>\n",
       "    </tr>\n",
       "  </tbody>\n",
       "</table>\n",
       "</div>"
      ],
      "text/plain": [
       "   anime_id                              name  \\\n",
       "0     32281                    Kimi no Na wa.   \n",
       "1      5114  Fullmetal Alchemist: Brotherhood   \n",
       "2     28977                          Gintama°   \n",
       "\n",
       "                                               genre   type episodes  rating  \\\n",
       "0               Drama, Romance, School, Supernatural  Movie        1    9.37   \n",
       "1  Action, Adventure, Drama, Fantasy, Magic, Mili...     TV       64    9.26   \n",
       "2  Action, Comedy, Historical, Parody, Samurai, S...     TV       51    9.25   \n",
       "\n",
       "   members  \n",
       "0   200630  \n",
       "1   793665  \n",
       "2   114262  "
      ]
     },
     "execution_count": 326,
     "metadata": {},
     "output_type": "execute_result"
    }
   ],
   "source": [
    "# Reading the anime.csv file into a DataFrame\n",
    "anime_df = pd.read_csv('anime.csv')\n",
    "anime_df.head(3)"
   ]
  },
  {
   "cell_type": "code",
   "execution_count": 327,
   "id": "42e3664e-aec3-470f-99e2-bf1d0942990d",
   "metadata": {},
   "outputs": [
    {
     "data": {
      "text/html": [
       "<div>\n",
       "<style scoped>\n",
       "    .dataframe tbody tr th:only-of-type {\n",
       "        vertical-align: middle;\n",
       "    }\n",
       "\n",
       "    .dataframe tbody tr th {\n",
       "        vertical-align: top;\n",
       "    }\n",
       "\n",
       "    .dataframe thead th {\n",
       "        text-align: right;\n",
       "    }\n",
       "</style>\n",
       "<table border=\"1\" class=\"dataframe\">\n",
       "  <thead>\n",
       "    <tr style=\"text-align: right;\">\n",
       "      <th></th>\n",
       "      <th>user_id</th>\n",
       "      <th>anime_id</th>\n",
       "      <th>rating</th>\n",
       "    </tr>\n",
       "  </thead>\n",
       "  <tbody>\n",
       "    <tr>\n",
       "      <th>0</th>\n",
       "      <td>1</td>\n",
       "      <td>11617</td>\n",
       "      <td>10</td>\n",
       "    </tr>\n",
       "    <tr>\n",
       "      <th>1</th>\n",
       "      <td>1</td>\n",
       "      <td>11757</td>\n",
       "      <td>10</td>\n",
       "    </tr>\n",
       "    <tr>\n",
       "      <th>2</th>\n",
       "      <td>1</td>\n",
       "      <td>15451</td>\n",
       "      <td>10</td>\n",
       "    </tr>\n",
       "  </tbody>\n",
       "</table>\n",
       "</div>"
      ],
      "text/plain": [
       "   user_id  anime_id  rating\n",
       "0        1     11617      10\n",
       "1        1     11757      10\n",
       "2        1     15451      10"
      ]
     },
     "execution_count": 327,
     "metadata": {},
     "output_type": "execute_result"
    }
   ],
   "source": [
    "# Reading the train.zip (csv) file into a DataFrame\n",
    "train_df = pd.read_csv('train.csv')\n",
    "train_df.head(3)"
   ]
  },
  {
   "cell_type": "code",
   "execution_count": 328,
   "id": "03db24b0-f934-47c4-b698-578cc3601c25",
   "metadata": {},
   "outputs": [
    {
     "data": {
      "text/html": [
       "<div>\n",
       "<style scoped>\n",
       "    .dataframe tbody tr th:only-of-type {\n",
       "        vertical-align: middle;\n",
       "    }\n",
       "\n",
       "    .dataframe tbody tr th {\n",
       "        vertical-align: top;\n",
       "    }\n",
       "\n",
       "    .dataframe thead th {\n",
       "        text-align: right;\n",
       "    }\n",
       "</style>\n",
       "<table border=\"1\" class=\"dataframe\">\n",
       "  <thead>\n",
       "    <tr style=\"text-align: right;\">\n",
       "      <th></th>\n",
       "      <th>user_id</th>\n",
       "      <th>anime_id</th>\n",
       "    </tr>\n",
       "  </thead>\n",
       "  <tbody>\n",
       "    <tr>\n",
       "      <th>0</th>\n",
       "      <td>40763</td>\n",
       "      <td>21405</td>\n",
       "    </tr>\n",
       "    <tr>\n",
       "      <th>1</th>\n",
       "      <td>68791</td>\n",
       "      <td>10504</td>\n",
       "    </tr>\n",
       "    <tr>\n",
       "      <th>2</th>\n",
       "      <td>40487</td>\n",
       "      <td>1281</td>\n",
       "    </tr>\n",
       "  </tbody>\n",
       "</table>\n",
       "</div>"
      ],
      "text/plain": [
       "   user_id  anime_id\n",
       "0    40763     21405\n",
       "1    68791     10504\n",
       "2    40487      1281"
      ]
     },
     "execution_count": 328,
     "metadata": {},
     "output_type": "execute_result"
    }
   ],
   "source": [
    "# Reading the test.csv file into a DataFrame\n",
    "test_df = pd.read_csv('test.csv')\n",
    "test_df.head(3)"
   ]
  },
  {
   "cell_type": "markdown",
   "id": "89d482f0",
   "metadata": {},
   "source": [
    "### 4. Data Cleaning"
   ]
  },
  {
   "cell_type": "markdown",
   "id": "410a4e39-b286-4295-b28c-8546d6c6ae6e",
   "metadata": {},
   "source": [
    "#### 4.1. Missing value"
   ]
  },
  {
   "cell_type": "code",
   "execution_count": 331,
   "id": "72cf3bc4-9843-494e-974e-b1b0aaba0e17",
   "metadata": {},
   "outputs": [
    {
     "name": "stdout",
     "output_type": "stream",
     "text": [
      "Missing values in anime_df:\n",
      "anime_id      0\n",
      "name          0\n",
      "genre        62\n",
      "type         25\n",
      "episodes      0\n",
      "rating      230\n",
      "members       0\n",
      "dtype: int64\n",
      "\n",
      "Missing values in train_df:\n",
      "user_id     0\n",
      "anime_id    0\n",
      "rating      0\n",
      "dtype: int64\n",
      "\n",
      "Missing values in test_df:\n",
      "user_id     0\n",
      "anime_id    0\n",
      "dtype: int64\n"
     ]
    }
   ],
   "source": [
    "# Check for missing values\n",
    "print(\"Missing values in anime_df:\")\n",
    "print(anime_df.isnull().sum())\n",
    "print(\"\\nMissing values in train_df:\")\n",
    "print(train_df.isnull().sum())\n",
    "print(\"\\nMissing values in test_df:\")\n",
    "print(test_df.isnull().sum())"
   ]
  },
  {
   "cell_type": "markdown",
   "id": "cd47dd10-0fb5-40b7-b7b9-0a8774607a76",
   "metadata": {},
   "source": [
    "#### 4.2 Drop Duplicates "
   ]
  },
  {
   "cell_type": "code",
   "execution_count": 333,
   "id": "ba4c66f8-cb57-499f-8015-1544eda582ec",
   "metadata": {},
   "outputs": [],
   "source": [
    "# Remove duplicates if any\n",
    "anime_df.drop_duplicates(inplace=True)\n",
    "train_df.drop_duplicates(inplace=True)\n",
    "test_df.drop_duplicates(inplace=True)"
   ]
  },
  {
   "cell_type": "markdown",
   "id": "29a769d3-7590-4b92-b406-e714a5509c55",
   "metadata": {},
   "source": [
    "#### 4.3. Cleaning anime_df "
   ]
  },
  {
   "cell_type": "code",
   "execution_count": 335,
   "id": "be4f4990-4d93-4261-b28f-26c3e0ad3434",
   "metadata": {},
   "outputs": [],
   "source": [
    "from html import unescape  # ✅ Import unescape to avoid NameError\n",
    "import re\n",
    "import pandas as pd\n",
    "\n",
    "def clean_anime_df(df):\n",
    "    # Ensure anime_id is unique and non-null\n",
    "    assert df['anime_id'].is_unique, \"anime_id column has duplicate values.\"\n",
    "    assert df['anime_id'].notnull().all(), \"anime_id column has null values.\"\n",
    "    df['anime_id'] = df['anime_id'].astype(int)\n",
    "\n",
    "    # Function to clean names and unescape HTML entities\n",
    "    def clean_name(name):\n",
    "        name = unescape(name)  # ✅ Convert HTML entities to characters\n",
    "        name = name.lower().strip()  # Convert to lowercase and strip whitespace\n",
    "        name = name.replace(\"&#039;\", \"'\").replace(\"°\", \"\")\n",
    "        name = re.sub(r'[^a-zA-Z0-9\\s\\.\\,\\-\\&\\:\\;\\']', '', name)  # Remove unwanted special characters\n",
    "        return name\n",
    "\n",
    "    # Apply the cleaning function to the 'name' column\n",
    "    df['name'] = df['name'].apply(clean_name)\n",
    "\n",
    "    # Handle missing values in 'genre' and split into lists\n",
    "    df['genre'] = df['genre'].fillna('')\n",
    "    df['genre'] = df['genre'].apply(lambda x: x.split(', '))\n",
    "\n",
    "    # Standardize genre lists\n",
    "    df['genre'] = df['genre'].apply(lambda genres: [genre.strip().lower() for genre in genres])\n",
    "\n",
    "    # Standardize the 'type' column\n",
    "    df['type'] = df['type'].str.lower().str.strip().fillna('unknown')\n",
    "\n",
    "    # Ensure episodes is numeric and handle missing values\n",
    "    df['episodes'] = pd.to_numeric(df['episodes'], errors='coerce').fillna(-1).astype(int)\n",
    "\n",
    "    # Ensure rating is numeric and handle missing values\n",
    "    df['rating'] = pd.to_numeric(df['rating'], errors='coerce').fillna(-1.0)\n",
    "\n",
    "    # Ensure members is numeric and handle missing values\n",
    "    df['members'] = pd.to_numeric(df['members'], errors='coerce').fillna(0).astype(int)\n",
    "\n",
    "    return df\n",
    "\n",
    "# Example usage:\n",
    "# anime_df = clean_anime_df(anime_df)\n"
   ]
  },
  {
   "cell_type": "code",
   "execution_count": 336,
   "id": "cfeb739b-ea75-4bd3-b558-8e429c33570f",
   "metadata": {},
   "outputs": [
    {
     "name": "stdout",
     "output_type": "stream",
     "text": [
      "Cleaned anime_df:\n",
      "   anime_id                              name  \\\n",
      "0     32281                    kimi no na wa.   \n",
      "1      5114  fullmetal alchemist: brotherhood   \n",
      "2     28977                           gintama   \n",
      "3      9253                       steins;gate   \n",
      "4      9969                          gintama'   \n",
      "\n",
      "                                               genre   type  episodes  rating  \\\n",
      "0             [drama, romance, school, supernatural]  movie         1    9.37   \n",
      "1  [action, adventure, drama, fantasy, magic, mil...     tv        64    9.26   \n",
      "2  [action, comedy, historical, parody, samurai, ...     tv        51    9.25   \n",
      "3                                 [sci-fi, thriller]     tv        24    9.17   \n",
      "4  [action, comedy, historical, parody, samurai, ...     tv        51    9.16   \n",
      "\n",
      "   members  \n",
      "0   200630  \n",
      "1   793665  \n",
      "2   114262  \n",
      "3   673572  \n",
      "4   151266  \n"
     ]
    }
   ],
   "source": [
    "# Clean the dataframes\n",
    "anime_df = clean_anime_df(anime_df)\n",
    "\n",
    "# Display the first few rows of the cleaned dataframes for verification\n",
    "print(f'Cleaned anime_df:\\n{anime_df.head()}')"
   ]
  },
  {
   "cell_type": "markdown",
   "id": "0fb21675-0f75-4d99-91f6-e71a1d2f0624",
   "metadata": {},
   "source": [
    "#### 4.4. Cleaning train data"
   ]
  },
  {
   "cell_type": "code",
   "execution_count": 338,
   "id": "e8e32e78-977c-4ee1-a5e3-b869680569ca",
   "metadata": {},
   "outputs": [],
   "source": [
    "# Define function to clean train_df\n",
    "def clean_train_df(df):\n",
    "    # Ensure user_id and anime_id are non-null and numeric\n",
    "    df = df.dropna(subset=['user_id', 'anime_id'])\n",
    "    df['user_id'] = pd.to_numeric(df['user_id'], errors='coerce')\n",
    "    df['anime_id'] = pd.to_numeric(df['anime_id'], errors='coerce')\n",
    "    \n",
    "    # Handle ratings: ensure they are integers and within a valid range\n",
    "    df['rating'] = pd.to_numeric(df['rating'], errors='coerce')\n",
    "    \n",
    "    # Option 1: Filter out rows where rating is -1, ensuring rating remains an integer\n",
    "    df = df[df['rating'] != -1]\n",
    "    \n",
    "    # Remove remaining rows with NaN values that could not be converted\n",
    "    df.dropna(subset=['user_id', 'anime_id', 'rating'], inplace=True)\n",
    "\n",
    "    # Ensure the remaining ratings are within the valid range\n",
    "    df = df[(df['rating'] >= 1) & (df['rating'] <= 10)]\n",
    "    df['rating'] = df['rating'].astype(int)  # Ensure rating column is of integer type\n",
    "\n",
    "    return df"
   ]
  },
  {
   "cell_type": "code",
   "execution_count": 339,
   "id": "cc4f5904-eba4-4660-868a-4db6c38867fa",
   "metadata": {},
   "outputs": [
    {
     "name": "stdout",
     "output_type": "stream",
     "text": [
      "Cleaned train_df:\n",
      "   user_id  anime_id  rating\n",
      "0        1     11617      10\n",
      "1        1     11757      10\n",
      "2        1     15451      10\n",
      "3        2     11771      10\n",
      "4        3        20       8\n"
     ]
    }
   ],
   "source": [
    "# Clean the dataframes\n",
    "train_df = clean_train_df(train_df)\n",
    "\n",
    "# Display the first few rows of the cleaned dataframes for verification\n",
    "print(f'Cleaned train_df:\\n{train_df.head()}')"
   ]
  },
  {
   "cell_type": "markdown",
   "id": "5d60bae9-45fa-4ed8-8f4b-9e14a506034b",
   "metadata": {},
   "source": [
    "#### 4.5. Cleaning test data"
   ]
  },
  {
   "cell_type": "code",
   "execution_count": 341,
   "id": "875c5499-3584-4cee-a7cd-4ebff089ccf4",
   "metadata": {},
   "outputs": [],
   "source": [
    "# Define function to clean test_df\n",
    "def clean_test_df(df):\n",
    "    # Ensure user_id and anime_id are non-null and numeric\n",
    "    df = df.dropna(subset=['user_id', 'anime_id'])\n",
    "    df['user_id'] = pd.to_numeric(df['user_id'], errors='coerce')\n",
    "    df['anime_id'] = pd.to_numeric(df['anime_id'], errors='coerce')\n",
    "    \n",
    "    # Remove rows with NaN values that could not be converted\n",
    "    df.dropna(subset=['user_id', 'anime_id'], inplace=True)\n",
    "    \n",
    "    return df"
   ]
  },
  {
   "cell_type": "code",
   "execution_count": 342,
   "id": "e0242249-6dea-4589-92db-f02f54a470fd",
   "metadata": {},
   "outputs": [
    {
     "name": "stdout",
     "output_type": "stream",
     "text": [
      "Cleaned test_df:\n",
      "   user_id  anime_id\n",
      "0    40763     21405\n",
      "1    68791     10504\n",
      "2    40487      1281\n",
      "3    55290       165\n",
      "4    72323     11111\n"
     ]
    }
   ],
   "source": [
    "# Clean the dataframes\n",
    "test_df = clean_test_df(test_df)\n",
    "\n",
    "# Display the first few rows of the cleaned dataframes for verification\n",
    "print(f'Cleaned test_df:\\n{test_df.head()}')"
   ]
  },
  {
   "cell_type": "markdown",
   "id": "52f5e7e5",
   "metadata": {},
   "source": [
    "### 5. Exploratory Data Analysis (EDA)"
   ]
  },
  {
   "cell_type": "markdown",
   "id": "005b7675-ae5b-4547-9f27-9dde937268ff",
   "metadata": {},
   "source": [
    "#### 5.1 EDA on anime_df\n",
    "Summary Statistics: Get an overview of the dataset.\n",
    "Distribution of Anime Types: Analyze the types of anime (e.g., TV, Movie, OVA).\n",
    "Distribution of Genres: Analyze the genres and their frequency.\n",
    "Rating Distribution: Visualize the distribution of anime ratings.\n",
    "Members Distribution: Analyze the distribution of the number of members who have rated the anime."
   ]
  },
  {
   "cell_type": "code",
   "execution_count": 345,
   "id": "6c87a289",
   "metadata": {},
   "outputs": [
    {
     "name": "stdout",
     "output_type": "stream",
     "text": [
      "Summary statistics for anime_df:\n",
      "           anime_id      episodes        rating       members\n",
      "count  12294.000000  12294.000000  12294.000000  1.229400e+04\n",
      "mean   14058.221653     12.012445      6.334078  1.807134e+04\n",
      "std    11455.294701     46.264788      1.435287  5.482068e+04\n",
      "min        1.000000     -1.000000     -1.000000  5.000000e+00\n",
      "25%     3484.250000      1.000000      5.820000  2.250000e+02\n",
      "50%    10260.500000      2.000000      6.550000  1.550000e+03\n",
      "75%    24794.500000     12.000000      7.170000  9.437000e+03\n",
      "max    34527.000000   1818.000000     10.000000  1.013917e+06\n"
     ]
    }
   ],
   "source": [
    "# Summary statistics for anime_df\n",
    "print(\"Summary statistics for anime_df:\")\n",
    "print(anime_df.describe())"
   ]
  },
  {
   "cell_type": "markdown",
   "id": "9959c9f0-8788-4b95-8dab-77ccd179be89",
   "metadata": {},
   "source": [
    "#### 5.2. Distribution of Rating"
   ]
  },
  {
   "cell_type": "code",
   "execution_count": 347,
   "id": "8a8f2600-6199-42ea-8df6-41b7761d84c2",
   "metadata": {},
   "outputs": [
    {
     "data": {
      "image/png": "[encoded data removed]",
      "text/plain": [
       "<Figure size 1000x600 with 1 Axes>"
      ]
     },
     "metadata": {},
     "output_type": "display_data"
    }
   ],
   "source": [
    "# Distribution of anime ratings\n",
    "plt.figure(figsize=(10, 6))\n",
    "sns.histplot(anime_df['rating'], bins=30, kde=True)\n",
    "plt.title('Distribution of Anime Ratings')\n",
    "plt.xlabel('Rating')\n",
    "plt.ylabel('Frequency')\n",
    "plt.show()"
   ]
  },
  {
   "cell_type": "markdown",
   "id": "ca37c1d0-07d3-45ca-a884-9fce9fb0edc1",
   "metadata": {},
   "source": [
    "#### 5.3. Distribution of Number of Members"
   ]
  },
  {
   "cell_type": "code",
   "execution_count": 349,
   "id": "ee5d612b-64d7-445a-bbab-a46853278c31",
   "metadata": {},
   "outputs": [
    {
     "data": {
      "image/png": "[encoded data removed]",
      "text/plain": [
       "<Figure size 1000x600 with 1 Axes>"
      ]
     },
     "metadata": {},
     "output_type": "display_data"
    }
   ],
   "source": [
    "# Distribution of number of members\n",
    "plt.figure(figsize=(10, 6))\n",
    "sns.histplot(anime_df['members'], bins=30, kde=True)\n",
    "plt.title('Distribution of Number of Members')\n",
    "plt.xlabel('Number of Members')\n",
    "plt.ylabel('Frequency')\n",
    "plt.show()"
   ]
  },
  {
   "cell_type": "markdown",
   "id": "762e98b9-453f-4a9f-823c-272f35c06136",
   "metadata": {},
   "source": [
    "#### 5.4. Rating by Anime Type"
   ]
  },
  {
   "cell_type": "code",
   "execution_count": 351,
   "id": "04bd90f2-3c63-42b7-a912-8fd27a3b1394",
   "metadata": {},
   "outputs": [
    {
     "data": {
      "image/png": "[encoded data removed]",
      "text/plain": [
       "<Figure size 1200x600 with 1 Axes>"
      ]
     },
     "metadata": {},
     "output_type": "display_data"
    }
   ],
   "source": [
    "plt.figure(figsize=(12, 6))\n",
    "sns.boxplot(x='type', y='rating', data=anime_df, palette=\"Set2\")  # Try 'husl', 'coolwarm', 'pastel', etc.\n",
    "plt.title('Rating by Anime Type')\n",
    "plt.xlabel('Type of Anime')\n",
    "plt.ylabel('Rating')\n",
    "plt.xticks(rotation=45)\n",
    "plt.show()\n"
   ]
  },
  {
   "cell_type": "markdown",
   "id": "b87ae0c7-1408-4dad-9e0c-8260e46a9920",
   "metadata": {},
   "source": [
    "#### 5.5. Top 10 Most Popular Anime"
   ]
  },
  {
   "cell_type": "code",
   "execution_count": 353,
   "id": "52e8ab6f-c0cf-4a77-b9e0-d58c7f5c4dd9",
   "metadata": {},
   "outputs": [
    {
     "data": {
      "image/png": "[encoded data removed]",
      "text/plain": [
       "<Figure size 1200x600 with 1 Axes>"
      ]
     },
     "metadata": {},
     "output_type": "display_data"
    }
   ],
   "source": [
    "# Top 10 most popular anime\n",
    "top_10_anime = anime_df.sort_values(by='members', ascending=False).head(10)\n",
    "\n",
    "# Define a custom color palette with distinct colors\n",
    "colors = sns.color_palette(\"Set2\", len(top_10_anime))  # You can change \"Set2\" to other palettes like \"Set1\", \"Paired\", etc.\n",
    "\n",
    "plt.figure(figsize=(12, 6))\n",
    "sns.barplot(x='members', y='name', data=top_10_anime, palette=colors, orient='h')\n",
    "plt.title('Top 10 Most Popular Anime')\n",
    "plt.xlabel('Number of Members')\n",
    "plt.ylabel('Anime')\n",
    "plt.show()\n"
   ]
  },
  {
   "cell_type": "markdown",
   "id": "de0dcb11-04b5-4389-aaeb-7b04302f2cb6",
   "metadata": {},
   "source": [
    "#### 5.6. Correlation Matrix"
   ]
  },
  {
   "cell_type": "code",
   "execution_count": 355,
   "id": "870961eb-f03a-4544-a0c5-ed823420e614",
   "metadata": {},
   "outputs": [
    {
     "data": {
      "image/png": "[encoded data removed]",
      "text/plain": [
       "<Figure size 800x600 with 2 Axes>"
      ]
     },
     "metadata": {},
     "output_type": "display_data"
    }
   ],
   "source": [
    "# Correlation matrix\n",
    "corr_matrix = anime_df[['rating', 'members', 'episodes']].corr()\n",
    "plt.figure(figsize=(8, 6))\n",
    "sns.heatmap(corr_matrix, annot=True, cmap='coolwarm', linewidths=0.5)\n",
    "plt.title('Correlation Matrix')\n",
    "plt.show()"
   ]
  },
  {
   "cell_type": "markdown",
   "id": "b084d775-b5a4-4f0f-a98b-7e9ffd8f6585",
   "metadata": {},
   "source": [
    "#### 5.7. User Rating Distribution"
   ]
  },
  {
   "cell_type": "code",
   "execution_count": 357,
   "id": "dc651c14-2c94-4e54-b849-53b7c8312117",
   "metadata": {},
   "outputs": [
    {
     "data": {
      "image/png": "[encoded data removed]",
      "text/plain": [
       "<Figure size 1000x600 with 1 Axes>"
      ]
     },
     "metadata": {},
     "output_type": "display_data"
    }
   ],
   "source": [
    "# Distribution of user ratings\n",
    "plt.figure(figsize=(10, 6))\n",
    "sns.histplot(train_df['rating'], bins=10, kde=True)\n",
    "plt.title('Distribution of User Ratings')\n",
    "plt.xlabel('Rating')\n",
    "plt.ylabel('Frequency')\n",
    "plt.show()"
   ]
  },
  {
   "cell_type": "markdown",
   "id": "36fbf4d3-fe6d-4912-b6ff-035b636a327a",
   "metadata": {},
   "source": [
    "#### 5.8. Top Rated Animes by Users"
   ]
  },
  {
   "cell_type": "code",
   "execution_count": 359,
   "id": "fdd5e2dc-1448-4adb-8aa0-862aaadbc022",
   "metadata": {},
   "outputs": [
    {
     "data": {
      "image/png": "[encoded data removed]",
      "text/plain": [
       "<Figure size 1200x600 with 1 Axes>"
      ]
     },
     "metadata": {},
     "output_type": "display_data"
    }
   ],
   "source": [
    "# Top rated animes by users\n",
    "top_rated_animes = train_df.groupby('anime_id').mean()['rating'].sort_values(ascending=False).head(10).reset_index()\n",
    "top_rated_animes = top_rated_animes.merge(anime_df[['anime_id', 'name']], on='anime_id')\n",
    "\n",
    "# Define a custom list of colors for the bars (you can replace these with any color codes you like)\n",
    "colors = ['#FF6347', '#4682B4', '#32CD32', '#FF4500', '#8A2BE2', '#FFD700', '#FF1493', '#8B4513', '#2E8B57', '#D2691E']\n",
    "\n",
    "# Create the plot\n",
    "plt.figure(figsize=(12, 6))\n",
    "sns.barplot(x='rating', y='name', data=top_rated_animes, palette=colors, orient='h')\n",
    "plt.title('Top 10 Highest Rated Animes by Users')\n",
    "plt.xlabel('Average Rating')\n",
    "plt.ylabel('Anime')\n",
    "plt.show()\n"
   ]
  },
  {
   "cell_type": "markdown",
   "id": "1b3c0131-36f0-4836-9e41-87d64c915017",
   "metadata": {},
   "source": [
    "### 6. Preprocessing"
   ]
  },
  {
   "cell_type": "markdown",
   "id": "2fae4b47-2675-43cd-9485-206bc4130bea",
   "metadata": {},
   "source": [
    "##### Anime_df"
   ]
  },
  {
   "cell_type": "code",
   "execution_count": 362,
   "id": "5a79f81b-4f19-463c-a88b-e88e64ce17b4",
   "metadata": {
    "scrolled": true
   },
   "outputs": [
    {
     "data": {
      "text/html": [
       "<div>\n",
       "<style scoped>\n",
       "    .dataframe tbody tr th:only-of-type {\n",
       "        vertical-align: middle;\n",
       "    }\n",
       "\n",
       "    .dataframe tbody tr th {\n",
       "        vertical-align: top;\n",
       "    }\n",
       "\n",
       "    .dataframe thead th {\n",
       "        text-align: right;\n",
       "    }\n",
       "</style>\n",
       "<table border=\"1\" class=\"dataframe\">\n",
       "  <thead>\n",
       "    <tr style=\"text-align: right;\">\n",
       "      <th></th>\n",
       "      <th>anime_id</th>\n",
       "      <th>name</th>\n",
       "      <th>genre</th>\n",
       "      <th>type</th>\n",
       "      <th>episodes</th>\n",
       "      <th>rating</th>\n",
       "      <th>members</th>\n",
       "      <th></th>\n",
       "      <th>action</th>\n",
       "      <th>adventure</th>\n",
       "      <th>...</th>\n",
       "      <th>shounen ai</th>\n",
       "      <th>slice of life</th>\n",
       "      <th>space</th>\n",
       "      <th>sports</th>\n",
       "      <th>super power</th>\n",
       "      <th>supernatural</th>\n",
       "      <th>thriller</th>\n",
       "      <th>vampire</th>\n",
       "      <th>yaoi</th>\n",
       "      <th>yuri</th>\n",
       "    </tr>\n",
       "  </thead>\n",
       "  <tbody>\n",
       "    <tr>\n",
       "      <th>0</th>\n",
       "      <td>32281</td>\n",
       "      <td>kimi no na wa.</td>\n",
       "      <td>['drama', 'romance', 'school', 'supernatural']</td>\n",
       "      <td>movie</td>\n",
       "      <td>1</td>\n",
       "      <td>9.37</td>\n",
       "      <td>200630</td>\n",
       "      <td>0</td>\n",
       "      <td>0</td>\n",
       "      <td>0</td>\n",
       "      <td>...</td>\n",
       "      <td>0</td>\n",
       "      <td>0</td>\n",
       "      <td>0</td>\n",
       "      <td>0</td>\n",
       "      <td>0</td>\n",
       "      <td>1</td>\n",
       "      <td>0</td>\n",
       "      <td>0</td>\n",
       "      <td>0</td>\n",
       "      <td>0</td>\n",
       "    </tr>\n",
       "    <tr>\n",
       "      <th>1</th>\n",
       "      <td>5114</td>\n",
       "      <td>fullmetal alchemist: brotherhood</td>\n",
       "      <td>['action', 'adventure', 'drama', 'fantasy', 'm...</td>\n",
       "      <td>tv</td>\n",
       "      <td>64</td>\n",
       "      <td>9.26</td>\n",
       "      <td>793665</td>\n",
       "      <td>0</td>\n",
       "      <td>1</td>\n",
       "      <td>1</td>\n",
       "      <td>...</td>\n",
       "      <td>0</td>\n",
       "      <td>0</td>\n",
       "      <td>0</td>\n",
       "      <td>0</td>\n",
       "      <td>0</td>\n",
       "      <td>0</td>\n",
       "      <td>0</td>\n",
       "      <td>0</td>\n",
       "      <td>0</td>\n",
       "      <td>0</td>\n",
       "    </tr>\n",
       "    <tr>\n",
       "      <th>2</th>\n",
       "      <td>28977</td>\n",
       "      <td>gintama</td>\n",
       "      <td>['action', 'comedy', 'historical', 'parody', '...</td>\n",
       "      <td>tv</td>\n",
       "      <td>51</td>\n",
       "      <td>9.25</td>\n",
       "      <td>114262</td>\n",
       "      <td>0</td>\n",
       "      <td>1</td>\n",
       "      <td>0</td>\n",
       "      <td>...</td>\n",
       "      <td>0</td>\n",
       "      <td>0</td>\n",
       "      <td>0</td>\n",
       "      <td>0</td>\n",
       "      <td>0</td>\n",
       "      <td>0</td>\n",
       "      <td>0</td>\n",
       "      <td>0</td>\n",
       "      <td>0</td>\n",
       "      <td>0</td>\n",
       "    </tr>\n",
       "    <tr>\n",
       "      <th>3</th>\n",
       "      <td>9253</td>\n",
       "      <td>steins;gate</td>\n",
       "      <td>['sci-fi', 'thriller']</td>\n",
       "      <td>tv</td>\n",
       "      <td>24</td>\n",
       "      <td>9.17</td>\n",
       "      <td>673572</td>\n",
       "      <td>0</td>\n",
       "      <td>0</td>\n",
       "      <td>0</td>\n",
       "      <td>...</td>\n",
       "      <td>0</td>\n",
       "      <td>0</td>\n",
       "      <td>0</td>\n",
       "      <td>0</td>\n",
       "      <td>0</td>\n",
       "      <td>0</td>\n",
       "      <td>1</td>\n",
       "      <td>0</td>\n",
       "      <td>0</td>\n",
       "      <td>0</td>\n",
       "    </tr>\n",
       "    <tr>\n",
       "      <th>4</th>\n",
       "      <td>9969</td>\n",
       "      <td>gintama'</td>\n",
       "      <td>['action', 'comedy', 'historical', 'parody', '...</td>\n",
       "      <td>tv</td>\n",
       "      <td>51</td>\n",
       "      <td>9.16</td>\n",
       "      <td>151266</td>\n",
       "      <td>0</td>\n",
       "      <td>1</td>\n",
       "      <td>0</td>\n",
       "      <td>...</td>\n",
       "      <td>0</td>\n",
       "      <td>0</td>\n",
       "      <td>0</td>\n",
       "      <td>0</td>\n",
       "      <td>0</td>\n",
       "      <td>0</td>\n",
       "      <td>0</td>\n",
       "      <td>0</td>\n",
       "      <td>0</td>\n",
       "      <td>0</td>\n",
       "    </tr>\n",
       "  </tbody>\n",
       "</table>\n",
       "<p>5 rows × 51 columns</p>\n",
       "</div>"
      ],
      "text/plain": [
       "   anime_id                              name  \\\n",
       "0     32281                    kimi no na wa.   \n",
       "1      5114  fullmetal alchemist: brotherhood   \n",
       "2     28977                           gintama   \n",
       "3      9253                       steins;gate   \n",
       "4      9969                          gintama'   \n",
       "\n",
       "                                               genre   type  episodes  rating  \\\n",
       "0     ['drama', 'romance', 'school', 'supernatural']  movie         1    9.37   \n",
       "1  ['action', 'adventure', 'drama', 'fantasy', 'm...     tv        64    9.26   \n",
       "2  ['action', 'comedy', 'historical', 'parody', '...     tv        51    9.25   \n",
       "3                             ['sci-fi', 'thriller']     tv        24    9.17   \n",
       "4  ['action', 'comedy', 'historical', 'parody', '...     tv        51    9.16   \n",
       "\n",
       "   members     action  adventure  ...  shounen ai  slice of life  space  \\\n",
       "0   200630  0       0          0  ...           0              0      0   \n",
       "1   793665  0       1          1  ...           0              0      0   \n",
       "2   114262  0       1          0  ...           0              0      0   \n",
       "3   673572  0       0          0  ...           0              0      0   \n",
       "4   151266  0       1          0  ...           0              0      0   \n",
       "\n",
       "   sports  super power  supernatural  thriller  vampire  yaoi  yuri  \n",
       "0       0            0             1         0        0     0     0  \n",
       "1       0            0             0         0        0     0     0  \n",
       "2       0            0             0         0        0     0     0  \n",
       "3       0            0             0         1        0     0     0  \n",
       "4       0            0             0         0        0     0     0  \n",
       "\n",
       "[5 rows x 51 columns]"
      ]
     },
     "execution_count": 362,
     "metadata": {},
     "output_type": "execute_result"
    }
   ],
   "source": [
    "import pandas as pd\n",
    "from sklearn.feature_extraction.text import CountVectorizer\n",
    "\n",
    "# Ensure 'genre' is a string before processing\n",
    "anime_df['genre'] = anime_df['genre'].astype(str)\n",
    "\n",
    "# Use CountVectorizer to create a one-hot encoded matrix for genres\n",
    "vectorizer = CountVectorizer(tokenizer=lambda x: x.strip(\"[]\").replace(\"'\", \"\").split(\", \"))\n",
    "genre_matrix = vectorizer.fit_transform(anime_df['genre'])\n",
    "\n",
    "# Convert the matrix to a DataFrame\n",
    "genre_df = pd.DataFrame(genre_matrix.toarray(), columns=vectorizer.get_feature_names_out())\n",
    "\n",
    "# Concatenate one-hot encoded genres with the original DataFrame \n",
    "anime_df = pd.concat([anime_df, genre_df], axis=1)\n",
    "\n",
    "# Display anime_df\n",
    "anime_df.head()\n"
   ]
  },
  {
   "cell_type": "markdown",
   "id": "aff0844c-5791-4c2a-9a39-44e2ba153bf8",
   "metadata": {},
   "source": [
    "##### Train_df"
   ]
  },
  {
   "cell_type": "code",
   "execution_count": 364,
   "id": "69349189-2049-4071-b446-f5725b5b7460",
   "metadata": {
    "scrolled": true
   },
   "outputs": [
    {
     "data": {
      "text/html": [
       "<div>\n",
       "<style scoped>\n",
       "    .dataframe tbody tr th:only-of-type {\n",
       "        vertical-align: middle;\n",
       "    }\n",
       "\n",
       "    .dataframe tbody tr th {\n",
       "        vertical-align: top;\n",
       "    }\n",
       "\n",
       "    .dataframe thead th {\n",
       "        text-align: right;\n",
       "    }\n",
       "</style>\n",
       "<table border=\"1\" class=\"dataframe\">\n",
       "  <thead>\n",
       "    <tr style=\"text-align: right;\">\n",
       "      <th></th>\n",
       "      <th>user_id</th>\n",
       "      <th>anime_id</th>\n",
       "      <th>rating</th>\n",
       "    </tr>\n",
       "  </thead>\n",
       "  <tbody>\n",
       "    <tr>\n",
       "      <th>0</th>\n",
       "      <td>1</td>\n",
       "      <td>11617</td>\n",
       "      <td>10</td>\n",
       "    </tr>\n",
       "    <tr>\n",
       "      <th>1</th>\n",
       "      <td>1</td>\n",
       "      <td>11757</td>\n",
       "      <td>10</td>\n",
       "    </tr>\n",
       "    <tr>\n",
       "      <th>2</th>\n",
       "      <td>1</td>\n",
       "      <td>15451</td>\n",
       "      <td>10</td>\n",
       "    </tr>\n",
       "    <tr>\n",
       "      <th>3</th>\n",
       "      <td>2</td>\n",
       "      <td>11771</td>\n",
       "      <td>10</td>\n",
       "    </tr>\n",
       "    <tr>\n",
       "      <th>4</th>\n",
       "      <td>3</td>\n",
       "      <td>20</td>\n",
       "      <td>8</td>\n",
       "    </tr>\n",
       "  </tbody>\n",
       "</table>\n",
       "</div>"
      ],
      "text/plain": [
       "   user_id  anime_id  rating\n",
       "0        1     11617      10\n",
       "1        1     11757      10\n",
       "2        1     15451      10\n",
       "3        2     11771      10\n",
       "4        3        20       8"
      ]
     },
     "execution_count": 364,
     "metadata": {},
     "output_type": "execute_result"
    }
   ],
   "source": [
    "### Merge train_df with anime_df to include anime details\n",
    "'''train_df = train_df.merge(anime_df, on='anime_id', how='left')\n",
    "\n",
    "# Normalize ratings \n",
    "from sklearn.preprocessing import MinMaxScaler\n",
    "\n",
    "scaler = MinMaxScaler()\n",
    "train_df['rating_x'] = scaler.fit_transform(train_df[['rating_x']])'''\n",
    "\n",
    "# Display train_df\n",
    "train_df.head()\n"
   ]
  },
  {
   "cell_type": "markdown",
   "id": "27f4256c-9cd3-46a5-8a6f-d6abfa886084",
   "metadata": {},
   "source": [
    "##### Test_df"
   ]
  },
  {
   "cell_type": "code",
   "execution_count": 366,
   "id": "d6f3c160-393f-4f3f-9e91-4783a4880bfe",
   "metadata": {},
   "outputs": [
    {
     "data": {
      "text/html": [
       "<div>\n",
       "<style scoped>\n",
       "    .dataframe tbody tr th:only-of-type {\n",
       "        vertical-align: middle;\n",
       "    }\n",
       "\n",
       "    .dataframe tbody tr th {\n",
       "        vertical-align: top;\n",
       "    }\n",
       "\n",
       "    .dataframe thead th {\n",
       "        text-align: right;\n",
       "    }\n",
       "</style>\n",
       "<table border=\"1\" class=\"dataframe\">\n",
       "  <thead>\n",
       "    <tr style=\"text-align: right;\">\n",
       "      <th></th>\n",
       "      <th>user_id</th>\n",
       "      <th>anime_id</th>\n",
       "    </tr>\n",
       "  </thead>\n",
       "  <tbody>\n",
       "    <tr>\n",
       "      <th>0</th>\n",
       "      <td>40763</td>\n",
       "      <td>21405</td>\n",
       "    </tr>\n",
       "    <tr>\n",
       "      <th>1</th>\n",
       "      <td>68791</td>\n",
       "      <td>10504</td>\n",
       "    </tr>\n",
       "    <tr>\n",
       "      <th>2</th>\n",
       "      <td>40487</td>\n",
       "      <td>1281</td>\n",
       "    </tr>\n",
       "    <tr>\n",
       "      <th>3</th>\n",
       "      <td>55290</td>\n",
       "      <td>165</td>\n",
       "    </tr>\n",
       "    <tr>\n",
       "      <th>4</th>\n",
       "      <td>72323</td>\n",
       "      <td>11111</td>\n",
       "    </tr>\n",
       "  </tbody>\n",
       "</table>\n",
       "</div>"
      ],
      "text/plain": [
       "   user_id  anime_id\n",
       "0    40763     21405\n",
       "1    68791     10504\n",
       "2    40487      1281\n",
       "3    55290       165\n",
       "4    72323     11111"
      ]
     },
     "execution_count": 366,
     "metadata": {},
     "output_type": "execute_result"
    }
   ],
   "source": [
    "# Merge test_df with anime_df to include anime details \n",
    "#test_df = test_df.merge(anime_df, on='anime_id', how='left')\n",
    "# Display test_df\n",
    "test_df.head()"
   ]
  },
  {
   "cell_type": "markdown",
   "id": "fe246eea",
   "metadata": {},
   "source": [
    "### 7. Model Training"
   ]
  },
  {
   "cell_type": "markdown",
   "id": "ec39a4c5-03aa-4969-ad44-c36baba8f0ba",
   "metadata": {},
   "source": [
    "#### 7.1. Cosine Similarity Matrix Recommender"
   ]
  },
  {
   "cell_type": "markdown",
   "id": "39fb7b1b-3997-4fbc-a0d5-ce7aee02067b",
   "metadata": {},
   "source": [
    "Starting with the cosine similarity for content based recommender"
   ]
  },
  {
   "cell_type": "code",
   "execution_count": 370,
   "id": "e0a24164-67c2-4923-b93a-eb33dc98f29f",
   "metadata": {},
   "outputs": [
    {
     "data": {
      "text/plain": [
       "0    ['drama', 'romance', 'school', 'supernatural']...\n",
       "1    ['action', 'adventure', 'drama', 'fantasy', 'm...\n",
       "2    ['action', 'comedy', 'historical', 'parody', '...\n",
       "3                            ['sci-fi', 'thriller'] tv\n",
       "4    ['action', 'comedy', 'historical', 'parody', '...\n",
       "Name: anime_tags, dtype: object"
      ]
     },
     "execution_count": 370,
     "metadata": {},
     "output_type": "execute_result"
    }
   ],
   "source": [
    "# We use the anime_df\n",
    "anime_df['anime_tags'] = (pd.Series(anime_df[['genre', 'type']]\n",
    "                          .fillna('')\n",
    "                          .values.tolist()).str.join(' '))\n",
    "\n",
    "anime_df['anime_tags'].head()"
   ]
  },
  {
   "cell_type": "code",
   "execution_count": 371,
   "id": "0213b85f-62a0-48a7-8912-9970f63b3b55",
   "metadata": {},
   "outputs": [],
   "source": [
    "anime_titles = anime_df['name']\n",
    "\n",
    "indices = pd.Series(anime_df.index, index=anime_df['name'])"
   ]
  },
  {
   "cell_type": "code",
   "execution_count": 372,
   "id": "5b5fcdf3-54bc-4234-8583-c823c8651b36",
   "metadata": {},
   "outputs": [],
   "source": [
    "vectorizer = TfidfVectorizer(analyzer='word', ngram_range=(1,3),\n",
    "                             min_df=0.0, stop_words='english')\n",
    "\n",
    "anime_tags_vector_matrix = vectorizer.fit_transform(anime_df['anime_tags'])"
   ]
  },
  {
   "cell_type": "code",
   "execution_count": 373,
   "id": "ebd7ba89-4f5c-4bbf-82fe-25e199917155",
   "metadata": {},
   "outputs": [
    {
     "data": {
      "text/plain": [
       "(12294, 12294)"
      ]
     },
     "execution_count": 373,
     "metadata": {},
     "output_type": "execute_result"
    }
   ],
   "source": [
    "cs_anime_tags = CS(anime_tags_vector_matrix,\n",
    "                   anime_tags_vector_matrix)\n",
    "\n",
    "cs_anime_tags.shape"
   ]
  },
  {
   "cell_type": "code",
   "execution_count": 433,
   "id": "9929375b-e0ec-40be-a5e9-b8ded462153c",
   "metadata": {},
   "outputs": [],
   "source": [
    "def top_k_recommendations(anime_title, k=10):\n",
    "\n",
    "    def sort_by_similarity(item):\n",
    "        return item[1]\n",
    "\n",
    "    \n",
    "    title_index = indices[anime_title]\n",
    "    \n",
    "    sim_scores = list(enumerate(cs_anime_tags[title_index].tolist()))\n",
    "    sim_scores = sorted(sim_scores, key=sort_by_similarity, reverse=True)\n",
    "    sim_scores = sim_scores[1:k]\n",
    "    \n",
    "    anime_indices = [i[0] for i in sim_scores]\n",
    "    \n",
    "    return anime_titles.iloc[anime_indices]"
   ]
  },
  {
   "cell_type": "code",
   "execution_count": 375,
   "id": "108d4f2a-8586-4a73-a303-2ba69650d686",
   "metadata": {},
   "outputs": [
    {
     "data": {
      "text/plain": [
       "200                               fullmetal alchemist\n",
       "402         fullmetal alchemist: brotherhood specials\n",
       "1558    fullmetal alchemist: the sacred star of milos\n",
       "6868                              jikuu tenshou nazca\n",
       "4264                                   tide-line blue\n",
       "2486                lodoss-tou senki: eiyuu kishi den\n",
       "5709                                            arion\n",
       "879               tales of vesperia: the first strike\n",
       "723                          hai to gensou no grimgar\n",
       "Name: name, dtype: object"
      ]
     },
     "execution_count": 375,
     "metadata": {},
     "output_type": "execute_result"
    }
   ],
   "source": [
    "top_k_recommendations('fullmetal alchemist: brotherhood', 10)"
   ]
  },
  {
   "cell_type": "code",
   "execution_count": 376,
   "id": "52c191fc-c051-4c6b-b678-e9ce40ecde70",
   "metadata": {},
   "outputs": [
    {
     "data": {
      "text/plain": [
       "5395                                      ookamikakushi\n",
       "1481                                              un-go\n",
       "3100     gakkou no kaidan: kubinashi rider shi no noroi\n",
       "6169                            gakkou no kaidan recaps\n",
       "10053                                   qui shui yi yun\n",
       "134                                     owarimonogatari\n",
       "299                                      nisemonogatari\n",
       "300                                     tsukimonogatari\n",
       "403                                      hanamonogatari\n",
       "Name: name, dtype: object"
      ]
     },
     "execution_count": 376,
     "metadata": {},
     "output_type": "execute_result"
    }
   ],
   "source": [
    "top_k_recommendations('gakkou no kaidan', 10)"
   ]
  },
  {
   "cell_type": "code",
   "execution_count": 377,
   "id": "57765b3a-ce19-4dbd-866d-8bd47bde76b0",
   "metadata": {},
   "outputs": [
    {
     "name": "stdout",
     "output_type": "stream",
     "text": [
      "5703554\n",
      "12294\n"
     ]
    }
   ],
   "source": [
    "print(len(train_df))\n",
    "print(len(anime_df))"
   ]
  },
  {
   "cell_type": "markdown",
   "id": "b1865cde-b4cc-4839-be15-3d37feaff34e",
   "metadata": {},
   "source": [
    "#### 7.2. Cosine Similarity Matrix Rating Predictor"
   ]
  },
  {
   "cell_type": "markdown",
   "id": "9d2cc2c6-5e43-43e3-b92c-4cc423f046b2",
   "metadata": {},
   "source": [
    "We use the cosine similarity matrix from 7.1. to generate predictions of the ratings."
   ]
  },
  {
   "cell_type": "code",
   "execution_count": 429,
   "id": "2ab97279-adb2-4fec-a105-503405bd8645",
   "metadata": {},
   "outputs": [],
   "source": [
    "def rating_predictor(anime_title, user, rating_data, k=20, threshold=0.0):\n",
    "    \n",
    "    def get_similarity(neighbor):\n",
    "        return neighbor[0]\n",
    "    \n",
    "    title_index = indices[anime_title]\n",
    "    neighbors = [] \n",
    "     \n",
    "    for index, row in rating_data[rating_data['user_id']==user].iterrows():\n",
    "        sim = cs_anime_tags[title_index-1, indices[row['name']]-1]\n",
    "        if isinstance(sim, np.ndarray):\n",
    "            if sim.shape == (2,):\n",
    "                sim = sim[0]\n",
    "            elif sim.size == 1:\n",
    "                sim = sim.item()\n",
    "        neighbors.append((sim, row['rating']))\n",
    "    k_neighbors = sorted(neighbors, key=get_similarity, reverse=True)[:k]\n",
    "\n",
    "    simTotal, weightedSum = 0, 0\n",
    "    for (simScore, rating) in k_neighbors:\n",
    "        if (simScore > threshold):\n",
    "            simTotal += simScore\n",
    "            weightedSum += simScore * rating\n",
    "    try:\n",
    "        predictedRating = weightedSum / simTotal\n",
    "    except ZeroDivisionError: \n",
    "        predictedRating = np.mean(rating_data[rating_data['name']==anime_title]['rating'])\n",
    "    \n",
    "    return round(predictedRating, 0)"
   ]
  },
  {
   "cell_type": "code",
   "execution_count": 381,
   "id": "391eb1cd-b210-4970-a8af-6fd317915bfd",
   "metadata": {},
   "outputs": [
    {
     "data": {
      "text/html": [
       "<div>\n",
       "<style scoped>\n",
       "    .dataframe tbody tr th:only-of-type {\n",
       "        vertical-align: middle;\n",
       "    }\n",
       "\n",
       "    .dataframe tbody tr th {\n",
       "        vertical-align: top;\n",
       "    }\n",
       "\n",
       "    .dataframe thead th {\n",
       "        text-align: right;\n",
       "    }\n",
       "</style>\n",
       "<table border=\"1\" class=\"dataframe\">\n",
       "  <thead>\n",
       "    <tr style=\"text-align: right;\">\n",
       "      <th></th>\n",
       "      <th>user_id</th>\n",
       "      <th>anime_id</th>\n",
       "      <th>rating</th>\n",
       "      <th>name</th>\n",
       "    </tr>\n",
       "  </thead>\n",
       "  <tbody>\n",
       "    <tr>\n",
       "      <th>0</th>\n",
       "      <td>1</td>\n",
       "      <td>11617</td>\n",
       "      <td>10</td>\n",
       "      <td>high school dxd</td>\n",
       "    </tr>\n",
       "    <tr>\n",
       "      <th>1</th>\n",
       "      <td>1</td>\n",
       "      <td>11757</td>\n",
       "      <td>10</td>\n",
       "      <td>sword art online</td>\n",
       "    </tr>\n",
       "    <tr>\n",
       "      <th>2</th>\n",
       "      <td>1</td>\n",
       "      <td>15451</td>\n",
       "      <td>10</td>\n",
       "      <td>high school dxd new</td>\n",
       "    </tr>\n",
       "    <tr>\n",
       "      <th>3</th>\n",
       "      <td>2</td>\n",
       "      <td>11771</td>\n",
       "      <td>10</td>\n",
       "      <td>kuroko no basket</td>\n",
       "    </tr>\n",
       "    <tr>\n",
       "      <th>4</th>\n",
       "      <td>3</td>\n",
       "      <td>20</td>\n",
       "      <td>8</td>\n",
       "      <td>naruto</td>\n",
       "    </tr>\n",
       "  </tbody>\n",
       "</table>\n",
       "</div>"
      ],
      "text/plain": [
       "   user_id  anime_id  rating                 name\n",
       "0        1     11617      10      high school dxd\n",
       "1        1     11757      10     sword art online\n",
       "2        1     15451      10  high school dxd new\n",
       "3        2     11771      10     kuroko no basket\n",
       "4        3        20       8               naruto"
      ]
     },
     "execution_count": 381,
     "metadata": {},
     "output_type": "execute_result"
    }
   ],
   "source": [
    "ratings = train_df.merge(anime_df[['anime_id', 'name']],\n",
    "                         on='anime_id', how='left')\n",
    "ratings.head()"
   ]
  },
  {
   "cell_type": "code",
   "execution_count": 382,
   "id": "179dce64-54c0-4eaf-bb57-4d65a652e6fb",
   "metadata": {},
   "outputs": [
    {
     "name": "stdout",
     "output_type": "stream",
     "text": [
      "Title - mob psycho 100\n",
      "---\n",
      "Actual rating: \t\t 9\n",
      "Predicted rating: \t 6.0\n"
     ]
    }
   ],
   "source": [
    "title = \"mob psycho 100\"\n",
    "user_id = 5\n",
    "actual_rating = ratings[(ratings['user_id'] == user_id) & (ratings['name'] == title)]['rating'].values[0]\n",
    "#actual_rating = None\n",
    "pred_rating = rating_predictor(anime_title=title, user=user_id, rating_data=ratings)\n",
    "print (f\"Title - {title}\")\n",
    "print (\"---\")\n",
    "print (f\"Actual rating: \\t\\t {actual_rating}\")\n",
    "print (f\"Predicted rating: \\t {pred_rating}\")"
   ]
  },
  {
   "cell_type": "code",
   "execution_count": 383,
   "id": "2b968788-270f-49a9-8c47-ec2126fe8417",
   "metadata": {},
   "outputs": [
    {
     "data": {
      "text/html": [
       "<div>\n",
       "<style scoped>\n",
       "    .dataframe tbody tr th:only-of-type {\n",
       "        vertical-align: middle;\n",
       "    }\n",
       "\n",
       "    .dataframe tbody tr th {\n",
       "        vertical-align: top;\n",
       "    }\n",
       "\n",
       "    .dataframe thead th {\n",
       "        text-align: right;\n",
       "    }\n",
       "</style>\n",
       "<table border=\"1\" class=\"dataframe\">\n",
       "  <thead>\n",
       "    <tr style=\"text-align: right;\">\n",
       "      <th></th>\n",
       "      <th>user_id</th>\n",
       "      <th>anime_id</th>\n",
       "      <th>rating</th>\n",
       "      <th>name</th>\n",
       "    </tr>\n",
       "  </thead>\n",
       "  <tbody>\n",
       "    <tr>\n",
       "      <th>89</th>\n",
       "      <td>5</td>\n",
       "      <td>6</td>\n",
       "      <td>8</td>\n",
       "      <td>trigun</td>\n",
       "    </tr>\n",
       "    <tr>\n",
       "      <th>90</th>\n",
       "      <td>5</td>\n",
       "      <td>15</td>\n",
       "      <td>6</td>\n",
       "      <td>eyeshield 21</td>\n",
       "    </tr>\n",
       "    <tr>\n",
       "      <th>91</th>\n",
       "      <td>5</td>\n",
       "      <td>17</td>\n",
       "      <td>6</td>\n",
       "      <td>hungry heart: wild striker</td>\n",
       "    </tr>\n",
       "    <tr>\n",
       "      <th>92</th>\n",
       "      <td>5</td>\n",
       "      <td>18</td>\n",
       "      <td>6</td>\n",
       "      <td>initial d fourth stage</td>\n",
       "    </tr>\n",
       "    <tr>\n",
       "      <th>93</th>\n",
       "      <td>5</td>\n",
       "      <td>20</td>\n",
       "      <td>6</td>\n",
       "      <td>naruto</td>\n",
       "    </tr>\n",
       "    <tr>\n",
       "      <th>...</th>\n",
       "      <td>...</td>\n",
       "      <td>...</td>\n",
       "      <td>...</td>\n",
       "      <td>...</td>\n",
       "    </tr>\n",
       "    <tr>\n",
       "      <th>496</th>\n",
       "      <td>5</td>\n",
       "      <td>30831</td>\n",
       "      <td>8</td>\n",
       "      <td>kono subarashii sekai ni shukufuku wo</td>\n",
       "    </tr>\n",
       "    <tr>\n",
       "      <th>497</th>\n",
       "      <td>5</td>\n",
       "      <td>31240</td>\n",
       "      <td>8</td>\n",
       "      <td>re:zero kara hajimeru isekai seikatsu</td>\n",
       "    </tr>\n",
       "    <tr>\n",
       "      <th>498</th>\n",
       "      <td>5</td>\n",
       "      <td>31722</td>\n",
       "      <td>7</td>\n",
       "      <td>nanatsu no taizai: seisen no shirushi</td>\n",
       "    </tr>\n",
       "    <tr>\n",
       "      <th>499</th>\n",
       "      <td>5</td>\n",
       "      <td>32182</td>\n",
       "      <td>9</td>\n",
       "      <td>mob psycho 100</td>\n",
       "    </tr>\n",
       "    <tr>\n",
       "      <th>500</th>\n",
       "      <td>5</td>\n",
       "      <td>32828</td>\n",
       "      <td>7</td>\n",
       "      <td>amaama to inazuma</td>\n",
       "    </tr>\n",
       "  </tbody>\n",
       "</table>\n",
       "<p>412 rows × 4 columns</p>\n",
       "</div>"
      ],
      "text/plain": [
       "     user_id  anime_id  rating                                   name\n",
       "89         5         6       8                                 trigun\n",
       "90         5        15       6                           eyeshield 21\n",
       "91         5        17       6             hungry heart: wild striker\n",
       "92         5        18       6                 initial d fourth stage\n",
       "93         5        20       6                                 naruto\n",
       "..       ...       ...     ...                                    ...\n",
       "496        5     30831       8  kono subarashii sekai ni shukufuku wo\n",
       "497        5     31240       8  re:zero kara hajimeru isekai seikatsu\n",
       "498        5     31722       7  nanatsu no taizai: seisen no shirushi\n",
       "499        5     32182       9                         mob psycho 100\n",
       "500        5     32828       7                      amaama to inazuma\n",
       "\n",
       "[412 rows x 4 columns]"
      ]
     },
     "execution_count": 383,
     "metadata": {},
     "output_type": "execute_result"
    }
   ],
   "source": [
    "ratings[ratings['user_id'] == 5]"
   ]
  },
  {
   "cell_type": "markdown",
   "id": "e1fb04af",
   "metadata": {},
   "source": [
    "### 8. Model Evaluation"
   ]
  },
  {
   "cell_type": "code",
   "execution_count": null,
   "id": "a570aa35",
   "metadata": {},
   "outputs": [],
   "source": []
  },
  {
   "cell_type": "markdown",
   "id": "00a89b50-d910-4d95-ba95-c66dec10d6f6",
   "metadata": {},
   "source": [
    "### 9. Hyperparameter Tuning"
   ]
  },
  {
   "cell_type": "code",
   "execution_count": null,
   "id": "67a20f8e-b4a9-45c4-8b01-f8a4e2d37853",
   "metadata": {},
   "outputs": [],
   "source": []
  },
  {
   "cell_type": "markdown",
   "id": "3e05ab9d",
   "metadata": {},
   "source": [
    "### 10. Conclusion"
   ]
  },
  {
   "cell_type": "code",
   "execution_count": null,
   "id": "3f0155c4",
   "metadata": {},
   "outputs": [],
   "source": []
  }
 ],
 "metadata": {
  "kernelspec": {
   "display_name": "NLP",
   "language": "python",
   "name": "python3"
  },
  "language_info": {
   "codemirror_mode": {
    "name": "ipython",
    "version": 3
   },
   "file_extension": ".py",
   "mimetype": "text/x-python",
   "name": "python",
   "nbconvert_exporter": "python",
   "pygments_lexer": "ipython3",
   "version": "3.12.8"
  }
 },
 "nbformat": 4,
 "nbformat_minor": 5
}
